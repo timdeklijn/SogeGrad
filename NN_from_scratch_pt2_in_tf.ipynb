{
  "nbformat": 4,
  "nbformat_minor": 0,
  "metadata": {
    "colab": {
      "name": "NN_from_scratch_pt2_in_tf.ipynb",
      "provenance": [],
      "collapsed_sections": []
    },
    "kernelspec": {
      "name": "python3",
      "display_name": "Python 3"
    },
    "accelerator": "GPU"
  },
  "cells": [
    {
      "cell_type": "markdown",
      "metadata": {
        "id": "mRfgcHyq-gRV"
      },
      "source": [
        "# NN from scratch - Part 2\n",
        "\n",
        "Links:\n",
        "\n",
        "* Google Colab: https://colab.research.google.com\n",
        "* Keras MNIST: https://www.tensorflow.org/tutorials/quickstart/beginner\n",
        "* TF2 Keras Dense Layer: https://www.tensorflow.org/api_docs/python/tf/keras/layers/Dense\n",
        "* NEAT: https://en.wikipedia.org/wiki/Neuroevolution_of_augmenting_topologies\n",
        "\n"
      ]
    },
    {
      "cell_type": "markdown",
      "metadata": {
        "id": "Uija9ktt8a0H"
      },
      "source": [
        "## Imports"
      ]
    },
    {
      "cell_type": "code",
      "metadata": {
        "id": "PPkWwz12AYeR"
      },
      "source": [
        "import tensorflow as tf\n",
        "import matplotlib.pyplot as plt\n",
        "import numpy as np"
      ],
      "execution_count": null,
      "outputs": []
    },
    {
      "cell_type": "markdown",
      "metadata": {
        "id": "e12uO-rv8mN4"
      },
      "source": [
        "# Previous Time"
      ]
    },
    {
      "cell_type": "markdown",
      "metadata": {
        "id": "uEPwKuhV8c-n"
      },
      "source": [
        "## Data Loader"
      ]
    },
    {
      "cell_type": "code",
      "metadata": {
        "id": "TlUOeWoDBhZn",
        "colab": {
          "base_uri": "https://localhost:8080/",
          "height": 52
        },
        "outputId": "5993a169-b6b7-45aa-fbed-4ff20f648f91"
      },
      "source": [
        "mnist = tf.keras.datasets.mnist\n",
        "\n",
        "(x_train, y_train), (x_test, y_test) = mnist.load_data()\n",
        "x_train, x_test = x_train / 255.0, x_test / 255.0\n",
        "size = x_train[0].shape # Used for input of NN"
      ],
      "execution_count": null,
      "outputs": [
        {
          "output_type": "stream",
          "text": [
            "Downloading data from https://storage.googleapis.com/tensorflow/tf-keras-datasets/mnist.npz\n",
            "11493376/11490434 [==============================] - 0s 0us/step\n"
          ],
          "name": "stdout"
        }
      ]
    },
    {
      "cell_type": "markdown",
      "metadata": {
        "id": "6ob5KmeA8rL8"
      },
      "source": [
        "## Helper Functions"
      ]
    },
    {
      "cell_type": "code",
      "metadata": {
        "id": "LvhMHO6nBvkM"
      },
      "source": [
        "def plot_number(n):\n",
        "    plt.imshow(n)"
      ],
      "execution_count": null,
      "outputs": []
    },
    {
      "cell_type": "markdown",
      "metadata": {
        "id": "UxDae30F9C3U"
      },
      "source": [
        "Plot a sample from the data"
      ]
    },
    {
      "cell_type": "code",
      "metadata": {
        "id": "-_0ALStC9EzP",
        "colab": {
          "base_uri": "https://localhost:8080/",
          "height": 265
        },
        "outputId": "ee9bf3cf-d98c-47d2-8fdb-10b04d13909a"
      },
      "source": [
        "plot_number(x_train[12])"
      ],
      "execution_count": null,
      "outputs": [
        {
          "output_type": "display_data",
          "data": {
            "image/png": "[encoded data removed]",
            "text/plain": [
              "<Figure size 432x288 with 1 Axes>"
            ]
          },
          "metadata": {
            "tags": [],
            "needs_background": "light"
          }
        }
      ]
    },
    {
      "cell_type": "markdown",
      "metadata": {
        "id": "G2RhEc7486AV"
      },
      "source": [
        "### Create and train a model"
      ]
    },
    {
      "cell_type": "markdown",
      "metadata": {
        "id": "YZpNRWHO9L2y"
      },
      "source": [
        "Build model"
      ]
    },
    {
      "cell_type": "code",
      "metadata": {
        "id": "IYV5c_DGCQQ4"
      },
      "source": [
        "model = tf.keras.models.Sequential([\n",
        "  tf.keras.layers.Flatten(input_shape=(28, 28)),\n",
        "  tf.keras.layers.Dense(128, activation='sigmoid'),\n",
        "  tf.keras.layers.Dense(10, activation='sigmoid')\n",
        "])"
      ],
      "execution_count": null,
      "outputs": []
    },
    {
      "cell_type": "markdown",
      "metadata": {
        "id": "u835X3SR9NwR"
      },
      "source": [
        "Add loss function, optimizer and compile model"
      ]
    },
    {
      "cell_type": "code",
      "metadata": {
        "id": "LqMPeOuiCh65"
      },
      "source": [
        "loss_fn = tf.keras.losses.SparseCategoricalCrossentropy(from_logits=True)\n",
        "model.compile(optimizer='adam',\n",
        "              loss=loss_fn,\n",
        "              metrics=['accuracy'])"
      ],
      "execution_count": null,
      "outputs": []
    },
    {
      "cell_type": "markdown",
      "metadata": {
        "id": "m6S9UOKy9Sl7"
      },
      "source": [
        "train the model"
      ]
    },
    {
      "cell_type": "code",
      "metadata": {
        "id": "IKZ2ZJluEUxO",
        "colab": {
          "base_uri": "https://localhost:8080/",
          "height": 382
        },
        "outputId": "b6ddcc76-946a-43ef-e107-10fe2a37b669"
      },
      "source": [
        "model.fit(x_train, y_train, epochs=10)"
      ],
      "execution_count": null,
      "outputs": [
        {
          "output_type": "stream",
          "text": [
            "Epoch 1/10\n",
            "1875/1875 [==============================] - 3s 2ms/step - loss: 1.6363 - accuracy: 0.8801\n",
            "Epoch 2/10\n",
            "1875/1875 [==============================] - 3s 2ms/step - loss: 1.5383 - accuracy: 0.9298\n",
            "Epoch 3/10\n",
            "1875/1875 [==============================] - 3s 2ms/step - loss: 1.5203 - accuracy: 0.9426\n",
            "Epoch 4/10\n",
            "1875/1875 [==============================] - 3s 2ms/step - loss: 1.5103 - accuracy: 0.9511\n",
            "Epoch 5/10\n",
            "1875/1875 [==============================] - 3s 2ms/step - loss: 1.5034 - accuracy: 0.9578\n",
            "Epoch 6/10\n",
            "1875/1875 [==============================] - 3s 2ms/step - loss: 1.4983 - accuracy: 0.9632\n",
            "Epoch 7/10\n",
            "1875/1875 [==============================] - 3s 2ms/step - loss: 1.4942 - accuracy: 0.9668\n",
            "Epoch 8/10\n",
            "1875/1875 [==============================] - 3s 2ms/step - loss: 1.4909 - accuracy: 0.9705\n",
            "Epoch 9/10\n",
            "1875/1875 [==============================] - 3s 2ms/step - loss: 1.4880 - accuracy: 0.9733\n",
            "Epoch 10/10\n",
            "1875/1875 [==============================] - 3s 2ms/step - loss: 1.4857 - accuracy: 0.9753\n"
          ],
          "name": "stdout"
        },
        {
          "output_type": "execute_result",
          "data": {
            "text/plain": [
              "<tensorflow.python.keras.callbacks.History at 0x7f7673901f28>"
            ]
          },
          "metadata": {
            "tags": []
          },
          "execution_count": 7
        }
      ]
    },
    {
      "cell_type": "markdown",
      "metadata": {
        "id": "14aP53FE9UPs"
      },
      "source": [
        "Evaluate the model"
      ]
    },
    {
      "cell_type": "code",
      "metadata": {
        "id": "PplFIaWCEagS",
        "colab": {
          "base_uri": "https://localhost:8080/",
          "height": 52
        },
        "outputId": "9966524a-aaf3-4652-8adf-fe30fd315bcd"
      },
      "source": [
        "model.evaluate(x_test,  y_test, verbose=2)"
      ],
      "execution_count": null,
      "outputs": [
        {
          "output_type": "stream",
          "text": [
            "313/313 - 0s - loss: 1.4939 - accuracy: 0.9668\n"
          ],
          "name": "stdout"
        },
        {
          "output_type": "execute_result",
          "data": {
            "text/plain": [
              "[1.4939284324645996, 0.9667999744415283]"
            ]
          },
          "metadata": {
            "tags": []
          },
          "execution_count": 8
        }
      ]
    },
    {
      "cell_type": "markdown",
      "metadata": {
        "id": "TiQnMhhX9XFT"
      },
      "source": [
        "'Use' the model"
      ]
    },
    {
      "cell_type": "code",
      "metadata": {
        "id": "uePR8YxHHn-b",
        "colab": {
          "base_uri": "https://localhost:8080/",
          "height": 282
        },
        "outputId": "0589ccd6-b895-4e0e-abfe-19b78f9013b8"
      },
      "source": [
        "n = np.random.randint(0, len(x_test))\n",
        "plot_number(x_test[n])\n",
        "prediction = np.argmax(model(x_test[n].reshape(1, size[0], size[1])).numpy())\n",
        "print(\"Prediction:\", prediction, \"- Actual:\", y_test[n])"
      ],
      "execution_count": null,
      "outputs": [
        {
          "output_type": "stream",
          "text": [
            "Prediction: 3 - Actual: 3\n"
          ],
          "name": "stdout"
        },
        {
          "output_type": "display_data",
          "data": {
            "image/png": "[encoded data removed]",
            "text/plain": [
              "<Figure size 432x288 with 1 Axes>"
            ]
          },
          "metadata": {
            "tags": [],
            "needs_background": "light"
          }
        }
      ]
    },
    {
      "cell_type": "markdown",
      "metadata": {
        "id": "HO-AgMW59cW9"
      },
      "source": [
        "Extract the weights from the model and print shape of each layer\n",
        "\n"
      ]
    },
    {
      "cell_type": "code",
      "metadata": {
        "id": "THnsKsClcMjA",
        "colab": {
          "base_uri": "https://localhost:8080/",
          "height": 34
        },
        "outputId": "3af067dc-52a1-4201-a7d1-53b680465474"
      },
      "source": [
        "type(model.get_weights())"
      ],
      "execution_count": null,
      "outputs": [
        {
          "output_type": "execute_result",
          "data": {
            "text/plain": [
              "list"
            ]
          },
          "metadata": {
            "tags": []
          },
          "execution_count": 10
        }
      ]
    },
    {
      "cell_type": "code",
      "metadata": {
        "id": "l_PIlWOgLfFY",
        "colab": {
          "base_uri": "https://localhost:8080/",
          "height": 156
        },
        "outputId": "e5b8a169-3f54-4399-c551-84c3feb49aac"
      },
      "source": [
        "weights = []\n",
        "for l in model.get_weights():\n",
        "    weights.append(l)\n",
        "    print(l.shape)\n",
        "    print(type(l))"
      ],
      "execution_count": null,
      "outputs": [
        {
          "output_type": "stream",
          "text": [
            "(784, 128)\n",
            "<class 'numpy.ndarray'>\n",
            "(128,)\n",
            "<class 'numpy.ndarray'>\n",
            "(128, 10)\n",
            "<class 'numpy.ndarray'>\n",
            "(10,)\n",
            "<class 'numpy.ndarray'>\n"
          ],
          "name": "stdout"
        }
      ]
    },
    {
      "cell_type": "markdown",
      "metadata": {
        "id": "WN8LPS_a9mwL"
      },
      "source": [
        "Create sigmoid activation function"
      ]
    },
    {
      "cell_type": "markdown",
      "metadata": {
        "id": "0anG-mroKUi_"
      },
      "source": [
        "$ \\frac{1}{1 + exp{-x}}$"
      ]
    },
    {
      "cell_type": "code",
      "metadata": {
        "id": "ecaRfdSOKJwl"
      },
      "source": [
        "def sigmoid(i):\n",
        "    return 1 / (1 + np.exp(-i))"
      ],
      "execution_count": null,
      "outputs": []
    },
    {
      "cell_type": "code",
      "metadata": {
        "id": "KhzVJnVTKzo2",
        "colab": {
          "base_uri": "https://localhost:8080/",
          "height": 265
        },
        "outputId": "adf4da14-9c95-4aba-ccaf-658bf06d200c"
      },
      "source": [
        "xs = np.linspace(-10, 10, 200)\n",
        "plt.plot(xs, sigmoid(xs));"
      ],
      "execution_count": null,
      "outputs": [
        {
          "output_type": "display_data",
          "data": {
            "image/png": "[encoded data removed]",
            "text/plain": [
              "<Figure size 432x288 with 1 Axes>"
            ]
          },
          "metadata": {
            "tags": [],
            "needs_background": "light"
          }
        }
      ]
    },
    {
      "cell_type": "markdown",
      "metadata": {
        "id": "qi85lIpG-FJl"
      },
      "source": [
        "## Build custom NN class"
      ]
    },
    {
      "cell_type": "code",
      "metadata": {
        "id": "QxKeYo_LPm0x"
      },
      "source": [
        "class NN:\n",
        "\n",
        "    @staticmethod\n",
        "    def sigmoid(i) -> np.array:\n",
        "        return 1 / (1 + np.exp(-i))\n",
        "\n",
        "    @staticmethod\n",
        "    def relu(i) -> np.array:\n",
        "        return np.maximum(0, i)\n",
        "\n",
        "    @staticmethod\n",
        "    def dense(x, kernel, bias, activation):\n",
        "        return activation(np.dot(x, kernel) + bias)\n",
        "\n",
        "\n",
        "class MyNN(NN):\n",
        "\n",
        "    def __init__(self, weights) -> None:\n",
        "        self.weights = weights\n",
        "\n",
        "    def predict(self, x):\n",
        "        x = x.flatten()\n",
        "        x = self.dense(x, self.weights[0], self.weights[1], self.sigmoid)\n",
        "        x = self.dense(x, self.weights[2], self.weights[3], self.sigmoid)\n",
        "        return np.argmax(x)"
      ],
      "execution_count": null,
      "outputs": []
    },
    {
      "cell_type": "code",
      "metadata": {
        "id": "IEkv2JNEbZuu"
      },
      "source": [
        ""
      ],
      "execution_count": null,
      "outputs": []
    },
    {
      "cell_type": "markdown",
      "metadata": {
        "id": "FXIDmXF5-I0L"
      },
      "source": [
        "Test custom class"
      ]
    },
    {
      "cell_type": "code",
      "metadata": {
        "id": "LzL3rFWxPlRo",
        "colab": {
          "base_uri": "https://localhost:8080/",
          "height": 283
        },
        "outputId": "b89fd3fd-005e-4daf-d4a5-c9085de4af5c"
      },
      "source": [
        "n = np.random.randint(0, len(x_test))\n",
        "plot_number(x_test[n])\n",
        "model = MyNN(weights)\n",
        "prediction = model.predict(x_test[n])\n",
        "print(\"Prediction:\", prediction, \"- Actual:\", y_test[n])"
      ],
      "execution_count": null,
      "outputs": [
        {
          "output_type": "stream",
          "text": [
            "Prediction: 4 - Actual: 4\n"
          ],
          "name": "stdout"
        },
        {
          "output_type": "display_data",
          "data": {
            "image/png": "[encoded data removed]",
            "text/plain": [
              "<Figure size 432x288 with 1 Axes>"
            ]
          },
          "metadata": {
            "tags": [],
            "needs_background": "light"
          }
        }
      ]
    },
    {
      "cell_type": "markdown",
      "metadata": {
        "id": "QQnkx3QKAaoN"
      },
      "source": [
        "# TODAY - 'NEAT'\n",
        "\n",
        "1. [x] Create Random weights (How to get the shape?)\n",
        "2. [x] Calculate 'fitness' of the weights\n",
        "3. [x] Create population\n",
        "4. Evolve:\n",
        "    - Sort on 'fitness'\n",
        "    - Reproduce/Mutate\n",
        "    - Calculate 'fitness'\n",
        "    - repeat...\n",
        "5. Evaluate"
      ]
    },
    {
      "cell_type": "code",
      "metadata": {
        "id": "E9BOUEhCgMxc",
        "colab": {
          "base_uri": "https://localhost:8080/",
          "height": 53
        },
        "outputId": "28e32be1-987c-4488-d7a4-8bd79338fe80"
      },
      "source": [
        "# Extract 0's and 1's from traing set\n",
        "indices_1 = np.where(y_train == 1)[0]\n",
        "indices_0 = np.where(y_train == 0)[0]\n",
        "indices = np.concatenate([indices_1,indices_0])\n",
        "print(indices)\n",
        "len(indices)"
      ],
      "execution_count": null,
      "outputs": [
        {
          "output_type": "stream",
          "text": [
            "[    3     6     8 ... 59952 59972 59987]\n"
          ],
          "name": "stdout"
        },
        {
          "output_type": "execute_result",
          "data": {
            "text/plain": [
              "12665"
            ]
          },
          "metadata": {
            "tags": []
          },
          "execution_count": 172
        }
      ]
    },
    {
      "cell_type": "code",
      "metadata": {
        "id": "otCJHkJjijTH"
      },
      "source": [
        "X = x_train[indices]\n",
        "y = y_train[indices]"
      ],
      "execution_count": null,
      "outputs": []
    },
    {
      "cell_type": "code",
      "metadata": {
        "id": "LQzxW6UB-X3X"
      },
      "source": [
        "shapes = [(784, 128), (128,), (128, 2), (2,)]\n",
        "def init_random_weights():\n",
        "    w = []\n",
        "    for layer in shapes:\n",
        "        if len(layer) == 2:\n",
        "            w.append(np.random.rand(layer[0], layer[1]))\n",
        "        else:\n",
        "            w.append(np.random.rand(layer[0]))\n",
        "    return w  "
      ],
      "execution_count": null,
      "outputs": []
    },
    {
      "cell_type": "code",
      "metadata": {
        "id": "_p9SbfEZPoHy"
      },
      "source": [
        "w = init_random_weights()"
      ],
      "execution_count": null,
      "outputs": []
    },
    {
      "cell_type": "code",
      "metadata": {
        "id": "EiNOMQyZQL8p",
        "colab": {
          "base_uri": "https://localhost:8080/",
          "height": 301
        },
        "outputId": "7b44a825-7788-4d0c-aba5-cda6991df4d8"
      },
      "source": [
        "nn = MyNN(w)\n",
        "plot_number(X[0])\n",
        "print(\"prediction\", nn.predict(X[0]))\n",
        "print(\"actual\", y[0])"
      ],
      "execution_count": null,
      "outputs": [
        {
          "output_type": "stream",
          "text": [
            "prediction 0\n",
            "actual 1\n"
          ],
          "name": "stdout"
        },
        {
          "output_type": "display_data",
          "data": {
            "image/png": "[encoded data removed]",
            "text/plain": [
              "<Figure size 432x288 with 1 Axes>"
            ]
          },
          "metadata": {
            "tags": [],
            "needs_background": "light"
          }
        }
      ]
    },
    {
      "cell_type": "code",
      "metadata": {
        "id": "-BkVLIXImVsD",
        "colab": {
          "base_uri": "https://localhost:8080/",
          "height": 35
        },
        "outputId": "ee7292a0-c021-4ca2-c2eb-cb2e444af995"
      },
      "source": [
        "len(X), len(y)"
      ],
      "execution_count": null,
      "outputs": [
        {
          "output_type": "execute_result",
          "data": {
            "text/plain": [
              "(12665, 12665)"
            ]
          },
          "metadata": {
            "tags": []
          },
          "execution_count": 208
        }
      ]
    },
    {
      "cell_type": "code",
      "metadata": {
        "id": "rMRQsMFnoTn6",
        "colab": {
          "base_uri": "https://localhost:8080/",
          "height": 265
        },
        "outputId": "808ad50f-00e1-4a9a-e71b-416a44ea2a91"
      },
      "source": [
        "plot_number(X[-100])"
      ],
      "execution_count": null,
      "outputs": [
        {
          "output_type": "display_data",
          "data": {
            "image/png": "[encoded data removed]",
            "text/plain": [
              "<Figure size 432x288 with 1 Axes>"
            ]
          },
          "metadata": {
            "tags": [],
            "needs_background": "light"
          }
        }
      ]
    },
    {
      "cell_type": "code",
      "metadata": {
        "id": "9tWdLVyZQVov",
        "colab": {
          "base_uri": "https://localhost:8080/",
          "height": 53
        },
        "outputId": "1c9f070c-810b-4f5d-ce6d-95e3a19137b3"
      },
      "source": [
        "def calc_fitness(nn):\n",
        "    sum = 0\n",
        "    for i, x in enumerate(X):\n",
        "        a = nn.predict(x)\n",
        "        if a == y[i]:\n",
        "            sum += 1\n",
        "    print(sum)\n",
        "    return sum / len(X)\n",
        "\n",
        "print(calc_fitness(nn)) #WHY ALWAYS THE SAME NUMBER!?"
      ],
      "execution_count": null,
      "outputs": [
        {
          "output_type": "stream",
          "text": [
            "5923\n",
            "0.46766679826292934\n"
          ],
          "name": "stdout"
        }
      ]
    },
    {
      "cell_type": "code",
      "metadata": {
        "id": "03chK8JIf_Hc"
      },
      "source": [
        "import gc # Garbage collection?"
      ],
      "execution_count": null,
      "outputs": []
    },
    {
      "cell_type": "code",
      "metadata": {
        "id": "zE_duUQORKSK",
        "colab": {
          "base_uri": "https://localhost:8080/",
          "height": 743
        },
        "outputId": "b3d2e7ac-8248-4615-fe8c-98025840283d"
      },
      "source": [
        "class Population:\n",
        "\n",
        "    def __init__(self):\n",
        "        self.population_size = 100\n",
        "        self.mut_prob = 0.01\n",
        "        self.population = []\n",
        "        self.fitness_list = []\n",
        "        self.init_population()\n",
        "\n",
        "    def init_population(self):\n",
        "        for _ in range(self.population_size):\n",
        "            w = init_random_weights()\n",
        "            self.population.append(MyNN(w))\n",
        "\n",
        "    def calc_population_fitness(self):\n",
        "        self.fitness_list = []\n",
        "        for i, nn in enumerate(self.population):\n",
        "            fitness = calc_fitness(nn)\n",
        "            self.fitness_list.append(fitness)\n",
        "\n",
        "    def mutate(self, w):\n",
        "        for i, layer in enumerate(w):\n",
        "            for idx, _ in np.ndenumerate(layer):\n",
        "                if np.random.random() < self.mut_prob:\n",
        "                    w[i][idx] += ((np.random.random() - 0.5) * 0.01)\n",
        "        return w\n",
        "\n",
        "    def print_highest_fitness(self):\n",
        "        return max(self.fitness_list)\n",
        "\n",
        "    def next_generation(self):\n",
        "        new_pop = []\n",
        "        # Put fittest individual in the new population\n",
        "        new_pop.append(self.population[np.argmax(self.fitness_list)])\n",
        "        prob = np.array(self.fitness_list)\n",
        "        prob_list = prob / prob.sum()\n",
        "        # pick individual based on fitness\n",
        "        for ind in np.random.choice(self.population, size=self.population_size-1, p=prob_list):\n",
        "            ind.weights = self.mutate(ind.weights)\n",
        "            new_pop.append(ind)\n",
        "        self.population = new_pop\n",
        "\n",
        "pop = Population()\n",
        "for i in range(100):\n",
        "    pop.calc_population_fitness()\n",
        "    print(f\"generation {i}: {pop.print_highest_fitness()}\")\n",
        "    pop.next_generation()\n",
        "    gc.collect()"
      ],
      "execution_count": null,
      "outputs": [
        {
          "output_type": "stream",
          "text": [
            "<__main__.MyNN object at 0x7f29420e8940>\n",
            "<__main__.MyNN object at 0x7f29420da630>\n",
            "<__main__.MyNN object at 0x7f29420dad30>\n",
            "<__main__.MyNN object at 0x7f29420dacc0>\n",
            "<__main__.MyNN object at 0x7f29420dac50>\n",
            "<__main__.MyNN object at 0x7f29420dabe0>\n",
            "<__main__.MyNN object at 0x7f29420dab70>\n",
            "<__main__.MyNN object at 0x7f29420da550>\n",
            "<__main__.MyNN object at 0x7f29420dab00>\n",
            "<__main__.MyNN object at 0x7f29420da748>\n",
            "<__main__.MyNN object at 0x7f29420da898>\n",
            "<__main__.MyNN object at 0x7f29420da5c0>\n",
            "<__main__.MyNN object at 0x7f29420da198>\n",
            "<__main__.MyNN object at 0x7f29420dafd0>\n",
            "<__main__.MyNN object at 0x7f29420dae10>\n",
            "<__main__.MyNN object at 0x7f29420daf98>\n",
            "<__main__.MyNN object at 0x7f29420da8d0>\n",
            "<__main__.MyNN object at 0x7f29420da860>\n"
          ],
          "name": "stdout"
        },
        {
          "output_type": "error",
          "ename": "KeyboardInterrupt",
          "evalue": "ignored",
          "traceback": [
            "\u001b[0;31m---------------------------------------------------------------------------\u001b[0m",
            "\u001b[0;31mKeyboardInterrupt\u001b[0m                         Traceback (most recent call last)",
            "\u001b[0;32m<ipython-input-196-f3251de3e6a8>\u001b[0m in \u001b[0;36m<module>\u001b[0;34m()\u001b[0m\n\u001b[1;32m     44\u001b[0m \u001b[0mpop\u001b[0m \u001b[0;34m=\u001b[0m \u001b[0mPopulation\u001b[0m\u001b[0;34m(\u001b[0m\u001b[0;34m)\u001b[0m\u001b[0;34m\u001b[0m\u001b[0;34m\u001b[0m\u001b[0m\n\u001b[1;32m     45\u001b[0m \u001b[0;32mfor\u001b[0m \u001b[0mi\u001b[0m \u001b[0;32min\u001b[0m \u001b[0mrange\u001b[0m\u001b[0;34m(\u001b[0m\u001b[0;36m100\u001b[0m\u001b[0;34m)\u001b[0m\u001b[0;34m:\u001b[0m\u001b[0;34m\u001b[0m\u001b[0;34m\u001b[0m\u001b[0m\n\u001b[0;32m---> 46\u001b[0;31m     \u001b[0mpop\u001b[0m\u001b[0;34m.\u001b[0m\u001b[0mcalc_population_fitness\u001b[0m\u001b[0;34m(\u001b[0m\u001b[0;34m)\u001b[0m\u001b[0;34m\u001b[0m\u001b[0;34m\u001b[0m\u001b[0m\n\u001b[0m\u001b[1;32m     47\u001b[0m     \u001b[0mprint\u001b[0m\u001b[0;34m(\u001b[0m\u001b[0;34mf\"generation {i}: {pop.print_highest_fitness()}\"\u001b[0m\u001b[0;34m)\u001b[0m\u001b[0;34m\u001b[0m\u001b[0;34m\u001b[0m\u001b[0m\n\u001b[1;32m     48\u001b[0m     \u001b[0mpop\u001b[0m\u001b[0;34m.\u001b[0m\u001b[0mnext_generation\u001b[0m\u001b[0;34m(\u001b[0m\u001b[0;34m)\u001b[0m\u001b[0;34m\u001b[0m\u001b[0;34m\u001b[0m\u001b[0m\n",
            "\u001b[0;32m<ipython-input-196-f3251de3e6a8>\u001b[0m in \u001b[0;36mcalc_population_fitness\u001b[0;34m(self)\u001b[0m\n\u001b[1;32m     17\u001b[0m         \u001b[0;32mfor\u001b[0m \u001b[0mi\u001b[0m\u001b[0;34m,\u001b[0m \u001b[0mnn\u001b[0m \u001b[0;32min\u001b[0m \u001b[0menumerate\u001b[0m\u001b[0;34m(\u001b[0m\u001b[0mself\u001b[0m\u001b[0;34m.\u001b[0m\u001b[0mpopulation\u001b[0m\u001b[0;34m)\u001b[0m\u001b[0;34m:\u001b[0m\u001b[0;34m\u001b[0m\u001b[0;34m\u001b[0m\u001b[0m\n\u001b[1;32m     18\u001b[0m             \u001b[0mprint\u001b[0m\u001b[0;34m(\u001b[0m\u001b[0mnn\u001b[0m\u001b[0;34m)\u001b[0m\u001b[0;34m\u001b[0m\u001b[0;34m\u001b[0m\u001b[0m\n\u001b[0;32m---> 19\u001b[0;31m             \u001b[0mfitness\u001b[0m \u001b[0;34m=\u001b[0m \u001b[0mcalc_fitness\u001b[0m\u001b[0;34m(\u001b[0m\u001b[0mnn\u001b[0m\u001b[0;34m)\u001b[0m\u001b[0;34m\u001b[0m\u001b[0;34m\u001b[0m\u001b[0m\n\u001b[0m\u001b[1;32m     20\u001b[0m             \u001b[0mself\u001b[0m\u001b[0;34m.\u001b[0m\u001b[0mfitness_list\u001b[0m\u001b[0;34m.\u001b[0m\u001b[0mappend\u001b[0m\u001b[0;34m(\u001b[0m\u001b[0mfitness\u001b[0m\u001b[0;34m)\u001b[0m\u001b[0;34m\u001b[0m\u001b[0;34m\u001b[0m\u001b[0m\n\u001b[1;32m     21\u001b[0m \u001b[0;34m\u001b[0m\u001b[0m\n",
            "\u001b[0;32m<ipython-input-194-ffaae4fa65b3>\u001b[0m in \u001b[0;36mcalc_fitness\u001b[0;34m(nn)\u001b[0m\n\u001b[1;32m      2\u001b[0m     \u001b[0msum\u001b[0m \u001b[0;34m=\u001b[0m \u001b[0;36m0\u001b[0m\u001b[0;34m\u001b[0m\u001b[0;34m\u001b[0m\u001b[0m\n\u001b[1;32m      3\u001b[0m     \u001b[0;32mfor\u001b[0m \u001b[0mi\u001b[0m\u001b[0;34m,\u001b[0m \u001b[0mx\u001b[0m \u001b[0;32min\u001b[0m \u001b[0menumerate\u001b[0m\u001b[0;34m(\u001b[0m\u001b[0mX\u001b[0m\u001b[0;34m)\u001b[0m\u001b[0;34m:\u001b[0m\u001b[0;34m\u001b[0m\u001b[0;34m\u001b[0m\u001b[0m\n\u001b[0;32m----> 4\u001b[0;31m         \u001b[0ma\u001b[0m \u001b[0;34m=\u001b[0m \u001b[0mnn\u001b[0m\u001b[0;34m.\u001b[0m\u001b[0mpredict\u001b[0m\u001b[0;34m(\u001b[0m\u001b[0mx\u001b[0m\u001b[0;34m)\u001b[0m\u001b[0;34m\u001b[0m\u001b[0;34m\u001b[0m\u001b[0m\n\u001b[0m\u001b[1;32m      5\u001b[0m         \u001b[0;32mif\u001b[0m \u001b[0ma\u001b[0m \u001b[0;34m==\u001b[0m \u001b[0my\u001b[0m\u001b[0;34m[\u001b[0m\u001b[0mi\u001b[0m\u001b[0;34m]\u001b[0m\u001b[0;34m:\u001b[0m\u001b[0;34m\u001b[0m\u001b[0;34m\u001b[0m\u001b[0m\n\u001b[1;32m      6\u001b[0m             \u001b[0msum\u001b[0m \u001b[0;34m+=\u001b[0m \u001b[0;36m1\u001b[0m\u001b[0;34m\u001b[0m\u001b[0;34m\u001b[0m\u001b[0m\n",
            "\u001b[0;32m<ipython-input-156-f9f410049e58>\u001b[0m in \u001b[0;36mpredict\u001b[0;34m(self, x)\u001b[0m\n\u001b[1;32m     21\u001b[0m     \u001b[0;32mdef\u001b[0m \u001b[0mpredict\u001b[0m\u001b[0;34m(\u001b[0m\u001b[0mself\u001b[0m\u001b[0;34m,\u001b[0m \u001b[0mx\u001b[0m\u001b[0;34m)\u001b[0m\u001b[0;34m:\u001b[0m\u001b[0;34m\u001b[0m\u001b[0;34m\u001b[0m\u001b[0m\n\u001b[1;32m     22\u001b[0m         \u001b[0mx\u001b[0m \u001b[0;34m=\u001b[0m \u001b[0mx\u001b[0m\u001b[0;34m.\u001b[0m\u001b[0mflatten\u001b[0m\u001b[0;34m(\u001b[0m\u001b[0;34m)\u001b[0m\u001b[0;34m\u001b[0m\u001b[0;34m\u001b[0m\u001b[0m\n\u001b[0;32m---> 23\u001b[0;31m         \u001b[0mx\u001b[0m \u001b[0;34m=\u001b[0m \u001b[0mself\u001b[0m\u001b[0;34m.\u001b[0m\u001b[0mdense\u001b[0m\u001b[0;34m(\u001b[0m\u001b[0mx\u001b[0m\u001b[0;34m,\u001b[0m \u001b[0mself\u001b[0m\u001b[0;34m.\u001b[0m\u001b[0mweights\u001b[0m\u001b[0;34m[\u001b[0m\u001b[0;36m0\u001b[0m\u001b[0;34m]\u001b[0m\u001b[0;34m,\u001b[0m \u001b[0mself\u001b[0m\u001b[0;34m.\u001b[0m\u001b[0mweights\u001b[0m\u001b[0;34m[\u001b[0m\u001b[0;36m1\u001b[0m\u001b[0;34m]\u001b[0m\u001b[0;34m,\u001b[0m \u001b[0mself\u001b[0m\u001b[0;34m.\u001b[0m\u001b[0msigmoid\u001b[0m\u001b[0;34m)\u001b[0m\u001b[0;34m\u001b[0m\u001b[0;34m\u001b[0m\u001b[0m\n\u001b[0m\u001b[1;32m     24\u001b[0m         \u001b[0mx\u001b[0m \u001b[0;34m=\u001b[0m \u001b[0mself\u001b[0m\u001b[0;34m.\u001b[0m\u001b[0mdense\u001b[0m\u001b[0;34m(\u001b[0m\u001b[0mx\u001b[0m\u001b[0;34m,\u001b[0m \u001b[0mself\u001b[0m\u001b[0;34m.\u001b[0m\u001b[0mweights\u001b[0m\u001b[0;34m[\u001b[0m\u001b[0;36m2\u001b[0m\u001b[0;34m]\u001b[0m\u001b[0;34m,\u001b[0m \u001b[0mself\u001b[0m\u001b[0;34m.\u001b[0m\u001b[0mweights\u001b[0m\u001b[0;34m[\u001b[0m\u001b[0;36m3\u001b[0m\u001b[0;34m]\u001b[0m\u001b[0;34m,\u001b[0m \u001b[0mself\u001b[0m\u001b[0;34m.\u001b[0m\u001b[0msigmoid\u001b[0m\u001b[0;34m)\u001b[0m\u001b[0;34m\u001b[0m\u001b[0;34m\u001b[0m\u001b[0m\n\u001b[1;32m     25\u001b[0m         \u001b[0;32mreturn\u001b[0m \u001b[0mnp\u001b[0m\u001b[0;34m.\u001b[0m\u001b[0margmax\u001b[0m\u001b[0;34m(\u001b[0m\u001b[0mx\u001b[0m\u001b[0;34m)\u001b[0m\u001b[0;34m\u001b[0m\u001b[0;34m\u001b[0m\u001b[0m\n",
            "\u001b[0;32m<ipython-input-156-f9f410049e58>\u001b[0m in \u001b[0;36mdense\u001b[0;34m(x, kernel, bias, activation)\u001b[0m\n\u001b[1;32m     11\u001b[0m     \u001b[0;34m@\u001b[0m\u001b[0mstaticmethod\u001b[0m\u001b[0;34m\u001b[0m\u001b[0;34m\u001b[0m\u001b[0m\n\u001b[1;32m     12\u001b[0m     \u001b[0;32mdef\u001b[0m \u001b[0mdense\u001b[0m\u001b[0;34m(\u001b[0m\u001b[0mx\u001b[0m\u001b[0;34m,\u001b[0m \u001b[0mkernel\u001b[0m\u001b[0;34m,\u001b[0m \u001b[0mbias\u001b[0m\u001b[0;34m,\u001b[0m \u001b[0mactivation\u001b[0m\u001b[0;34m)\u001b[0m\u001b[0;34m:\u001b[0m\u001b[0;34m\u001b[0m\u001b[0;34m\u001b[0m\u001b[0m\n\u001b[0;32m---> 13\u001b[0;31m         \u001b[0;32mreturn\u001b[0m \u001b[0mactivation\u001b[0m\u001b[0;34m(\u001b[0m\u001b[0mnp\u001b[0m\u001b[0;34m.\u001b[0m\u001b[0mdot\u001b[0m\u001b[0;34m(\u001b[0m\u001b[0mx\u001b[0m\u001b[0;34m,\u001b[0m \u001b[0mkernel\u001b[0m\u001b[0;34m)\u001b[0m \u001b[0;34m+\u001b[0m \u001b[0mbias\u001b[0m\u001b[0;34m)\u001b[0m\u001b[0;34m\u001b[0m\u001b[0;34m\u001b[0m\u001b[0m\n\u001b[0m\u001b[1;32m     14\u001b[0m \u001b[0;34m\u001b[0m\u001b[0m\n\u001b[1;32m     15\u001b[0m \u001b[0;34m\u001b[0m\u001b[0m\n",
            "\u001b[0;32m<__array_function__ internals>\u001b[0m in \u001b[0;36mdot\u001b[0;34m(*args, **kwargs)\u001b[0m\n",
            "\u001b[0;31mKeyboardInterrupt\u001b[0m: "
          ]
        }
      ]
    },
    {
      "cell_type": "code",
      "metadata": {
        "id": "EQMqH8JBSQyf"
      },
      "source": [
        ""
      ],
      "execution_count": null,
      "outputs": []
    }
  ]
}